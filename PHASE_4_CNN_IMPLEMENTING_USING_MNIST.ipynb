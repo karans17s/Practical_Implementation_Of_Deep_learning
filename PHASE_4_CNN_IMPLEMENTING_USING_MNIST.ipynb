{
  "cells": [
    {
      "cell_type": "markdown",
      "metadata": {
        "id": "view-in-github",
        "colab_type": "text"
      },
      "source": [
        "<a href=\"https://colab.research.google.com/github/karans17s/Practical_Implementation_Of_Deep_learning/blob/main/PHASE_4_CNN_IMPLEMENTING_USING_MNIST.ipynb\" target=\"_parent\"><img src=\"https://colab.research.google.com/assets/colab-badge.svg\" alt=\"Open In Colab\"/></a>"
      ]
    },
    {
      "cell_type": "markdown",
      "metadata": {
        "id": "Qyk1cuZkyUUT"
      },
      "source": [
        "# **Step:1 == First Import Libs..**"
      ]
    },
    {
      "cell_type": "markdown",
      "metadata": {
        "id": "7aegfIOx-9WG"
      },
      "source": [
        "### 1) torch lib use :\n",
        "\n",
        "### -- this lib for tensors and computations\n",
        "\n",
        "### -- .nn for the neural network , we know that torch special for the DL\n",
        "\n",
        "### -- .optim means we know that SGD , adam these are optimal algo for process"
      ]
    },
    {
      "cell_type": "markdown",
      "metadata": {
        "id": "XW0LWTCOAKtK"
      },
      "source": [
        "### 2) about tensor :\n",
        "\n",
        "### -- numpy with Supportive GPU"
      ]
    },
    {
      "cell_type": "code",
      "execution_count": null,
      "metadata": {
        "id": "bCiTmM6ZpwPm"
      },
      "outputs": [],
      "source": [
        "import torch\n",
        "import torch.nn as nn\n",
        "import torch.optim as optim\n",
        "from torch.utils.data import DataLoader, TensorDataset\n",
        "import pandas as pd"
      ]
    },
    {
      "cell_type": "markdown",
      "metadata": {
        "id": "zIuZEOv03wc-"
      },
      "source": [
        "# Step : 2 == Connect with GPU"
      ]
    },
    {
      "cell_type": "code",
      "execution_count": null,
      "metadata": {
        "id": "KYAp7P7hyZAP"
      },
      "outputs": [],
      "source": [
        "device = torch.device(\"cuda\" if torch.cuda.is_available() else \"cpu\")"
      ]
    },
    {
      "cell_type": "code",
      "execution_count": null,
      "metadata": {
        "colab": {
          "base_uri": "https://localhost:8080/"
        },
        "id": "a1mhTkm8-0PA",
        "outputId": "3a5ef922-55c6-4ab5-e1b7-8512f472f59a"
      },
      "outputs": [
        {
          "output_type": "execute_result",
          "data": {
            "text/plain": [
              "device(type='cuda')"
            ]
          },
          "metadata": {},
          "execution_count": 3
        }
      ],
      "source": [
        "device"
      ]
    },
    {
      "cell_type": "markdown",
      "metadata": {
        "id": "7BosWc0tyeyx"
      },
      "source": [
        "# Step : 3 == load CSV data\n",
        "\n",
        "## why use .tensor(data & labels)\n",
        "\n",
        "### torch module direct not process with numpy arrays , req GPU system for the operation so...."
      ]
    },
    {
      "cell_type": "code",
      "execution_count": null,
      "metadata": {
        "id": "nNeoKamzydw0"
      },
      "outputs": [],
      "source": [
        "def load_csv_dataset(csv_path):\n",
        "    df = pd.read_csv(csv_path)\n",
        "    data = df.iloc[:, 1:].values.astype('float32')  # Skip the label column\n",
        "    labels = df.iloc[:, 0].values.astype('int64')  # First column is the label\n",
        "    data = data / 255.0  # Normalize pixel values to [0, 1]\n",
        "    data = torch.tensor(data)\n",
        "    labels = torch.tensor(labels)\n",
        "    return TensorDataset(data, labels)"
      ]
    },
    {
      "cell_type": "code",
      "execution_count": null,
      "metadata": {
        "id": "klmYhKKByn4G"
      },
      "outputs": [],
      "source": [
        "data_frame_train = load_csv_dataset('/content/mnist_train.csv')"
      ]
    },
    {
      "cell_type": "code",
      "execution_count": null,
      "metadata": {
        "colab": {
          "base_uri": "https://localhost:8080/"
        },
        "id": "9JOzQopZ7E9s",
        "outputId": "19954f9f-0c00-4dd8-b55f-8da9d4f682c5"
      },
      "outputs": [
        {
          "output_type": "execute_result",
          "data": {
            "text/plain": [
              "<torch.utils.data.dataset.TensorDataset at 0x7c63021af810>"
            ]
          },
          "metadata": {},
          "execution_count": 6
        }
      ],
      "source": [
        "data_frame_train"
      ]
    },
    {
      "cell_type": "code",
      "execution_count": null,
      "metadata": {
        "id": "9oxSSlkh0ABM"
      },
      "outputs": [],
      "source": [
        "data_shape_train = data_frame_train.tensors[0].shape"
      ]
    },
    {
      "cell_type": "code",
      "execution_count": null,
      "metadata": {
        "colab": {
          "base_uri": "https://localhost:8080/"
        },
        "id": "YxsnzXNA0DrH",
        "outputId": "f3fc5b4f-1c00-4bbe-e829-7e8f59b454f4"
      },
      "outputs": [
        {
          "output_type": "execute_result",
          "data": {
            "text/plain": [
              "torch.Size([60000, 784])"
            ]
          },
          "metadata": {},
          "execution_count": 8
        }
      ],
      "source": [
        "data_shape_train"
      ]
    },
    {
      "cell_type": "code",
      "execution_count": null,
      "metadata": {
        "id": "n21rH4qvxq8F"
      },
      "outputs": [],
      "source": [
        "data_frame_test = load_csv_dataset('/content/mnist_test.csv')"
      ]
    },
    {
      "cell_type": "code",
      "execution_count": null,
      "metadata": {
        "colab": {
          "base_uri": "https://localhost:8080/"
        },
        "id": "txaBQFcjxrbw",
        "outputId": "235a224b-f47f-4089-f2b7-6814673b4739"
      },
      "outputs": [
        {
          "output_type": "execute_result",
          "data": {
            "text/plain": [
              "<torch.utils.data.dataset.TensorDataset at 0x7c6300801590>"
            ]
          },
          "metadata": {},
          "execution_count": 10
        }
      ],
      "source": [
        "data_frame_test"
      ]
    },
    {
      "cell_type": "code",
      "execution_count": null,
      "metadata": {
        "id": "aiaSjjwvzgI6"
      },
      "outputs": [],
      "source": [
        "data_shape_test = data_frame_test.tensors[0].shape"
      ]
    },
    {
      "cell_type": "code",
      "execution_count": null,
      "metadata": {
        "colab": {
          "base_uri": "https://localhost:8080/"
        },
        "id": "AKS8aZ-m2kji",
        "outputId": "774458a8-949c-4403-85c5-eaaa79cab21d"
      },
      "outputs": [
        {
          "output_type": "execute_result",
          "data": {
            "text/plain": [
              "torch.Size([10000, 784])"
            ]
          },
          "metadata": {},
          "execution_count": 12
        }
      ],
      "source": [
        "data_shape_test"
      ]
    },
    {
      "cell_type": "code",
      "execution_count": null,
      "metadata": {
        "id": "jN4oBFMt3mrj"
      },
      "outputs": [],
      "source": [
        "def print_tensor_dataset_head(dataset, num_rows=5):\n",
        "    data_tensor, label_tensor = dataset.tensors\n",
        "    data_df = pd.DataFrame(data_tensor.numpy())\n",
        "    data_df['label'] = label_tensor.numpy()\n",
        "    print(data_df.head(num_rows))"
      ]
    },
    {
      "cell_type": "code",
      "execution_count": null,
      "metadata": {
        "colab": {
          "base_uri": "https://localhost:8080/"
        },
        "id": "vyRrDvMY3phb",
        "outputId": "2ea9b972-ba87-4516-ebe3-5ceb017e1a12"
      },
      "outputs": [
        {
          "output_type": "stream",
          "name": "stdout",
          "text": [
            "     0    1    2    3    4    5    6    7    8    9  ...  775  776  777  778  \\\n",
            "0  0.0  0.0  0.0  0.0  0.0  0.0  0.0  0.0  0.0  0.0  ...  0.0  0.0  0.0  0.0   \n",
            "1  0.0  0.0  0.0  0.0  0.0  0.0  0.0  0.0  0.0  0.0  ...  0.0  0.0  0.0  0.0   \n",
            "2  0.0  0.0  0.0  0.0  0.0  0.0  0.0  0.0  0.0  0.0  ...  0.0  0.0  0.0  0.0   \n",
            "3  0.0  0.0  0.0  0.0  0.0  0.0  0.0  0.0  0.0  0.0  ...  0.0  0.0  0.0  0.0   \n",
            "4  0.0  0.0  0.0  0.0  0.0  0.0  0.0  0.0  0.0  0.0  ...  0.0  0.0  0.0  0.0   \n",
            "\n",
            "   779  780  781  782  783  label  \n",
            "0  0.0  0.0  0.0  0.0  0.0      5  \n",
            "1  0.0  0.0  0.0  0.0  0.0      0  \n",
            "2  0.0  0.0  0.0  0.0  0.0      4  \n",
            "3  0.0  0.0  0.0  0.0  0.0      1  \n",
            "4  0.0  0.0  0.0  0.0  0.0      9  \n",
            "\n",
            "[5 rows x 785 columns]\n"
          ]
        }
      ],
      "source": [
        "print_tensor_dataset_head(data_frame_train)"
      ]
    },
    {
      "cell_type": "code",
      "execution_count": null,
      "metadata": {
        "colab": {
          "base_uri": "https://localhost:8080/"
        },
        "id": "wXvYzTMy3uJt",
        "outputId": "431dee27-efe8-4936-f386-f3711c2f424f"
      },
      "outputs": [
        {
          "output_type": "stream",
          "name": "stdout",
          "text": [
            "     0    1    2    3    4    5    6    7    8    9  ...  775  776  777  778  \\\n",
            "0  0.0  0.0  0.0  0.0  0.0  0.0  0.0  0.0  0.0  0.0  ...  0.0  0.0  0.0  0.0   \n",
            "1  0.0  0.0  0.0  0.0  0.0  0.0  0.0  0.0  0.0  0.0  ...  0.0  0.0  0.0  0.0   \n",
            "2  0.0  0.0  0.0  0.0  0.0  0.0  0.0  0.0  0.0  0.0  ...  0.0  0.0  0.0  0.0   \n",
            "3  0.0  0.0  0.0  0.0  0.0  0.0  0.0  0.0  0.0  0.0  ...  0.0  0.0  0.0  0.0   \n",
            "4  0.0  0.0  0.0  0.0  0.0  0.0  0.0  0.0  0.0  0.0  ...  0.0  0.0  0.0  0.0   \n",
            "\n",
            "   779  780  781  782  783  label  \n",
            "0  0.0  0.0  0.0  0.0  0.0      7  \n",
            "1  0.0  0.0  0.0  0.0  0.0      2  \n",
            "2  0.0  0.0  0.0  0.0  0.0      1  \n",
            "3  0.0  0.0  0.0  0.0  0.0      0  \n",
            "4  0.0  0.0  0.0  0.0  0.0      4  \n",
            "\n",
            "[5 rows x 785 columns]\n"
          ]
        }
      ],
      "source": [
        "print_tensor_dataset_head(data_frame_test)"
      ]
    },
    {
      "cell_type": "markdown",
      "metadata": {
        "id": "I6tUPXzr5RPx"
      },
      "source": [
        "# Step : 4 == Show the handwritten digits imgs"
      ]
    },
    {
      "cell_type": "code",
      "execution_count": null,
      "metadata": {
        "colab": {
          "base_uri": "https://localhost:8080/",
          "height": 149
        },
        "id": "8dtAjQYG8tHK",
        "outputId": "740d7821-2f1c-45f8-989c-d012ddce566d"
      },
      "outputs": [
        {
          "output_type": "display_data",
          "data": {
            "text/plain": [
              "<Figure size 1500x400 with 10 Axes>"
            ],
            "image/png": "[encoded data removed]"
          },
          "metadata": {}
        }
      ],
      "source": [
        "import matplotlib.pyplot as plt\n",
        "fig, axes = plt.subplots(1, 10, figsize=(15, 4))\n",
        "found_digits = {}\n",
        "for img, label in data_frame_train:\n",
        "    digit = label.item()\n",
        "    if digit not in found_digits:\n",
        "        found_digits[digit] = img.reshape(28, 28).numpy()\n",
        "        axes[digit].imshow(found_digits[digit], cmap='gray')\n",
        "        axes[digit].set_title(f\"Label: {digit}\")\n",
        "        axes[digit].axis('off')\n",
        "    if len(found_digits) == 10:\n",
        "        break\n",
        "plt.show()"
      ]
    },
    {
      "cell_type": "markdown",
      "metadata": {
        "id": "A3gRj78vy4fw"
      },
      "source": [
        "# Step : 5 == Hyperparameter Tuning"
      ]
    },
    {
      "cell_type": "code",
      "execution_count": null,
      "metadata": {
        "id": "4-f42JbSyx8A"
      },
      "outputs": [],
      "source": [
        "batch_size = 64\n",
        "lr = 0.001\n",
        "epochs = 50"
      ]
    },
    {
      "cell_type": "code",
      "execution_count": null,
      "metadata": {
        "id": "-116oDkSwlPG"
      },
      "outputs": [],
      "source": [
        "from torch.utils.data import DataLoader, TensorDataset"
      ]
    },
    {
      "cell_type": "code",
      "execution_count": null,
      "metadata": {
        "id": "EOPoR102y_7L"
      },
      "outputs": [],
      "source": [
        "train_loader = DataLoader(\n",
        "    data_frame_train,\n",
        "    batch_size=batch_size,\n",
        "    shuffle=True\n",
        "    )\n",
        "test_loader = DataLoader(\n",
        "    data_frame_test,\n",
        "    batch_size=batch_size,\n",
        "    shuffle=False\n",
        "    )"
      ]
    },
    {
      "cell_type": "markdown",
      "metadata": {
        "id": "fLN4zvDTzX4t"
      },
      "source": [
        "# Step : 6 == Define the nn model\n",
        "\n",
        "### fc1 -- first fully connected layer and fcn so on.....\n",
        "\n",
        "### 6-fully connected layer\n",
        "\n",
        "### nn.Linear is a fully connected layer/dense layer) linear transformation.\n",
        "\n",
        "### output == XW(T) + b\n",
        "\n",
        "### nn.Linear(in_features, out_features)\n"
      ]
    },
    {
      "cell_type": "code",
      "execution_count": null,
      "metadata": {
        "id": "7oshCROmzWz0"
      },
      "outputs": [],
      "source": [
        "class CNN(nn.Module):\n",
        "    def __init__(self):\n",
        "        super(CNN, self).__init__()\n",
        "        self.conv1 = nn.Conv2d(1, 32, kernel_size=3, padding=1)\n",
        "        self.relu1 = nn.ReLU()\n",
        "        self.pool1 = nn.MaxPool2d(kernel_size=2, stride=2)\n",
        "        self.conv2 = nn.Conv2d(32, 64, kernel_size=3, padding=1)\n",
        "        self.relu2 = nn.ReLU()\n",
        "        self.pool2 = nn.MaxPool2d(kernel_size=2, stride=2)\n",
        "        self.fc1 = nn.Linear(64 * 7 * 7, 128)\n",
        "        self.relu3 = nn.ReLU()\n",
        "        self.fc2 = nn.Linear(128, 10)\n",
        "\n",
        "    def forward(self, x):\n",
        "        x = x.view(-1, 1, 28, 28)  # Reshape input\n",
        "        x = self.conv1(x)\n",
        "        x = self.relu1(x)\n",
        "        x = self.pool1(x)\n",
        "        x = self.conv2(x)\n",
        "        x = self.relu2(x)\n",
        "        x = self.pool2(x)\n",
        "        x = x.view(x.size(0), -1)  # Flatten\n",
        "        x = self.fc1(x)\n",
        "        x = self.relu3(x)\n",
        "        x = self.fc2(x)\n",
        "        return x"
      ]
    },
    {
      "cell_type": "code",
      "execution_count": null,
      "metadata": {
        "id": "I58uhAaszf-u"
      },
      "outputs": [],
      "source": [
        "model = CNN().to(device)"
      ]
    },
    {
      "cell_type": "code",
      "execution_count": null,
      "metadata": {
        "colab": {
          "base_uri": "https://localhost:8080/"
        },
        "id": "4NQsUJOF2twH",
        "outputId": "db29d752-ff76-4279-d2c8-6b919b20c0d4"
      },
      "outputs": [
        {
          "output_type": "stream",
          "name": "stdout",
          "text": [
            "Total trainable parameters: 421642\n"
          ]
        }
      ],
      "source": [
        "def count_parameters(model):\n",
        "    return sum(p.numel() for p in model.parameters() if p.requires_grad) # p.requires_grad -- total number of trainable parameters in given model\n",
        "\n",
        "print(f\"Total trainable parameters: {count_parameters(model)}\")"
      ]
    },
    {
      "cell_type": "markdown",
      "metadata": {
        "id": "PIvj-CWpZtFp"
      },
      "source": [
        "# Step : 7 == Calculate accuracy and losses......."
      ]
    },
    {
      "cell_type": "code",
      "execution_count": null,
      "metadata": {
        "id": "fd-kpWUkzlP1"
      },
      "outputs": [],
      "source": [
        "criterion = nn.CrossEntropyLoss()\n",
        "optimizer = optim.Adam(model.parameters(), lr=lr)"
      ]
    },
    {
      "cell_type": "code",
      "execution_count": null,
      "metadata": {
        "colab": {
          "base_uri": "https://localhost:8080/"
        },
        "id": "9LkWq9tAzsvF",
        "outputId": "cdea82f5-a23d-4a7f-cdb2-79adbce3c0c0"
      },
      "outputs": [
        {
          "output_type": "stream",
          "name": "stdout",
          "text": [
            "Epoch 1/20, Loss: 0.1759, Accuracy: 97.93%\n",
            "Epoch 2/20, Loss: 0.0503, Accuracy: 98.88%\n",
            "Epoch 3/20, Loss: 0.0347, Accuracy: 98.83%\n",
            "Epoch 4/20, Loss: 0.0251, Accuracy: 98.81%\n",
            "Epoch 5/20, Loss: 0.0192, Accuracy: 99.12%\n",
            "Epoch 6/20, Loss: 0.0148, Accuracy: 99.03%\n",
            "Epoch 7/20, Loss: 0.0118, Accuracy: 99.12%\n",
            "Epoch 8/20, Loss: 0.0100, Accuracy: 98.99%\n",
            "Epoch 9/20, Loss: 0.0091, Accuracy: 99.00%\n",
            "Epoch 10/20, Loss: 0.0065, Accuracy: 99.10%\n",
            "Epoch 11/20, Loss: 0.0066, Accuracy: 98.89%\n",
            "Epoch 12/20, Loss: 0.0062, Accuracy: 99.09%\n",
            "Epoch 13/20, Loss: 0.0034, Accuracy: 99.22%\n",
            "Epoch 14/20, Loss: 0.0055, Accuracy: 98.97%\n",
            "Epoch 15/20, Loss: 0.0042, Accuracy: 99.04%\n",
            "Epoch 16/20, Loss: 0.0040, Accuracy: 98.88%\n",
            "Epoch 17/20, Loss: 0.0028, Accuracy: 99.03%\n",
            "Epoch 18/20, Loss: 0.0027, Accuracy: 98.76%\n",
            "Epoch 19/20, Loss: 0.0041, Accuracy: 99.20%\n",
            "Epoch 20/20, Loss: 0.0037, Accuracy: 99.04%\n"
          ]
        }
      ],
      "source": [
        "epochs = 20\n",
        "train_losses = []  # Initialize an empty list to store train losses\n",
        "test_accuracies = []  # Initialize an empty list to store test accuracies\n",
        "\n",
        "for epoch in range(epochs):\n",
        "    # Training\n",
        "    model.train()\n",
        "    train_loss = 0\n",
        "    for images, labels in train_loader:\n",
        "        images, labels = images.to(device), labels.to(device)\n",
        "        optimizer.zero_grad()\n",
        "        outputs = model(images)\n",
        "        loss = criterion(outputs, labels)\n",
        "        loss.backward()\n",
        "        optimizer.step()\n",
        "        train_loss += loss.item()\n",
        "\n",
        "    train_loss /= len(train_loader)\n",
        "    train_losses.append(train_loss)  # Append the train loss for this epoch\n",
        "\n",
        "    # Testing\n",
        "    model.eval()\n",
        "    correct = 0\n",
        "    total = 0\n",
        "    with torch.no_grad():\n",
        "        for images, labels in test_loader:\n",
        "            images, labels = images.to(device), labels.to(device)\n",
        "            outputs = model(images)\n",
        "            _, predicted = torch.max(outputs, 1)\n",
        "            total += labels.size(0)\n",
        "            correct += (predicted == labels).sum().item()\n",
        "\n",
        "    accuracy = 100 * correct / total\n",
        "    test_accuracies.append(accuracy)  # Append the test accuracy for this epoch\n",
        "\n",
        "    # Print epoch metrics\n",
        "    print(f\"Epoch {epoch + 1}/{epochs}, Loss: {train_loss:.4f}, Accuracy: {accuracy:.2f}%\")"
      ]
    },
    {
      "cell_type": "code",
      "execution_count": null,
      "metadata": {
        "colab": {
          "base_uri": "https://localhost:8080/",
          "height": 476
        },
        "id": "pYuwNzU92Bn6",
        "outputId": "c7722a87-bb1a-4997-a305-a6b0963a2f3b"
      },
      "outputs": [
        {
          "output_type": "display_data",
          "data": {
            "text/plain": [
              "<Figure size 1200x500 with 2 Axes>"
            ],
            "image/png": "[encoded data removed]"
          },
          "metadata": {}
        }
      ],
      "source": [
        "plt.figure(figsize=(12, 5))\n",
        "\n",
        "# Plot training loss\n",
        "plt.subplot(1, 2, 1)\n",
        "plt.plot(range(1, epochs + 1), train_losses, marker='o', label='Training Loss')\n",
        "plt.xlabel('Epochs')\n",
        "plt.ylabel('Loss')\n",
        "plt.title('Training Loss')\n",
        "plt.legend()\n",
        "\n",
        "# Plot test accuracy\n",
        "plt.subplot(1, 2, 2)\n",
        "plt.plot(range(1, epochs + 1), test_accuracies, marker='o', label='Test Accuracy')\n",
        "plt.xlabel('Epochs')\n",
        "plt.ylabel('Accuracy (%)')\n",
        "plt.title('Test Accuracy')\n",
        "plt.legend()\n",
        "\n",
        "plt.tight_layout()\n",
        "plt.show()\n"
      ]
    },
    {
      "cell_type": "markdown",
      "metadata": {
        "id": "OhIb1DCUbJ60"
      },
      "source": [
        "# Step : 8 == Model evaluating....."
      ]
    },
    {
      "cell_type": "code",
      "execution_count": null,
      "metadata": {
        "id": "1Nnh7Ht92NIJ",
        "colab": {
          "base_uri": "https://localhost:8080/"
        },
        "outputId": "5c5da6a6-1e67-46be-e54c-2a8a7d7d53c2"
      },
      "outputs": [
        {
          "output_type": "stream",
          "name": "stdout",
          "text": [
            "Test Accuracy: 99.04%\n"
          ]
        }
      ],
      "source": [
        "model.eval()\n",
        "all_preds = []  # List to store all predictions\n",
        "all_labels = []  # List to store all true labels\n",
        "\n",
        "with torch.no_grad():\n",
        "    for images, labels in test_loader:\n",
        "        images, labels = images.to(device), labels.to(device)\n",
        "        outputs = model(images)\n",
        "        _, predicted = torch.max(outputs, 1)\n",
        "\n",
        "        all_preds.extend(predicted.cpu().numpy())  # Add predictions to the list\n",
        "        all_labels.extend(labels.cpu().numpy())  # Add labels to the list\n",
        "\n",
        "test_accuracy = 100 * sum(1 for x, y in zip(all_preds, all_labels) if x == y) / len(all_labels)\n",
        "print(f\"Test Accuracy: {test_accuracy:.2f}%\")"
      ]
    },
    {
      "cell_type": "markdown",
      "metadata": {
        "id": "ls1aPj0YbQqq"
      },
      "source": [
        "# Step : 9 == Prepare report"
      ]
    },
    {
      "cell_type": "code",
      "execution_count": null,
      "metadata": {
        "id": "Rnrlnytfz2vi",
        "colab": {
          "base_uri": "https://localhost:8080/",
          "height": 1000
        },
        "outputId": "17ae5ec1-af3b-485f-bdc5-512fe1c53e47"
      },
      "outputs": [
        {
          "output_type": "stream",
          "name": "stdout",
          "text": [
            "Requirement already satisfied: scikit-learn in /usr/local/lib/python3.11/dist-packages (1.6.1)\n",
            "Requirement already satisfied: numpy>=1.19.5 in /usr/local/lib/python3.11/dist-packages (from scikit-learn) (1.26.4)\n",
            "Requirement already satisfied: scipy>=1.6.0 in /usr/local/lib/python3.11/dist-packages (from scikit-learn) (1.13.1)\n",
            "Requirement already satisfied: joblib>=1.2.0 in /usr/local/lib/python3.11/dist-packages (from scikit-learn) (1.4.2)\n",
            "Requirement already satisfied: threadpoolctl>=3.1.0 in /usr/local/lib/python3.11/dist-packages (from scikit-learn) (3.5.0)\n",
            "Classification Report:\n",
            "              precision    recall  f1-score   support\n",
            "\n",
            "           0       0.99      1.00      1.00       980\n",
            "           1       0.99      1.00      1.00      1135\n",
            "           2       0.99      0.99      0.99      1032\n",
            "           3       0.98      0.99      0.98      1010\n",
            "           4       0.99      0.99      0.99       982\n",
            "           5       0.99      0.97      0.98       892\n",
            "           6       1.00      0.98      0.99       958\n",
            "           7       0.98      1.00      0.99      1028\n",
            "           8       0.99      0.99      0.99       974\n",
            "           9       0.99      0.99      0.99      1009\n",
            "\n",
            "    accuracy                           0.99     10000\n",
            "   macro avg       0.99      0.99      0.99     10000\n",
            "weighted avg       0.99      0.99      0.99     10000\n",
            "\n",
            "\n",
            "Prediction Distribution:\n"
          ]
        },
        {
          "output_type": "stream",
          "name": "stderr",
          "text": [
            "<ipython-input-30-bb544ee04bb5>:12: FutureWarning: \n",
            "\n",
            "Passing `palette` without assigning `hue` is deprecated and will be removed in v0.14.0. Assign the `x` variable to `hue` and set `legend=False` for the same effect.\n",
            "\n",
            "  sns.countplot(x=predictions, order=classes, palette=\"viridis\")\n"
          ]
        },
        {
          "output_type": "display_data",
          "data": {
            "text/plain": [
              "<Figure size 1200x600 with 1 Axes>"
            ],
            "image/png": "[encoded data removed]"
          },
          "metadata": {}
        }
      ],
      "source": [
        "!pip install scikit-learn # Install scikit-learn if you haven't already\n",
        "from sklearn.metrics import classification_report # Import the classification_report function\n",
        "\n",
        "print(\"Classification Report:\")\n",
        "print(classification_report(all_labels, all_preds, target_names=[str(c) for c in range(10)])) # Assuming classes are 0-9\n",
        "\n",
        "\n",
        "def plot_prediction_distribution(predictions, classes):\n",
        "    import seaborn as sns # Import seaborn within the function\n",
        "    import matplotlib.pyplot as plt # Import matplotlib within the function\n",
        "    plt.figure(figsize=(12, 6))\n",
        "    sns.countplot(x=predictions, order=classes, palette=\"viridis\")\n",
        "    plt.title(\"Prediction Distribution\")\n",
        "    plt.xlabel(\"Predicted Labels\")\n",
        "    plt.ylabel(\"Count\")\n",
        "    plt.show()\n",
        "\n",
        "print(\"\\nPrediction Distribution:\")\n",
        "plot_prediction_distribution(all_preds, classes=range(10)) # Assuming classes are 0-9"
      ]
    },
    {
      "cell_type": "markdown",
      "metadata": {
        "id": "DJbjcVhnbuYR"
      },
      "source": [
        "# Step : 10 == Save the model......."
      ]
    },
    {
      "cell_type": "code",
      "execution_count": null,
      "metadata": {
        "id": "T01e87Mv25cO",
        "colab": {
          "base_uri": "https://localhost:8080/"
        },
        "outputId": "ff16c62a-3829-4115-c1d1-261fb0cbd505"
      },
      "outputs": [
        {
          "output_type": "stream",
          "name": "stdout",
          "text": [
            "Model saved as 'mnist_cnn_model.pth'\n"
          ]
        }
      ],
      "source": [
        "torch.save(model.state_dict(), 'mnist_cnn_model.pth')\n",
        "print(\"Model saved as 'mnist_cnn_model.pth'\")"
      ]
    }
  ],
  "metadata": {
    "accelerator": "GPU",
    "colab": {
      "gpuType": "T4",
      "provenance": [],
      "collapsed_sections": [
        "Qyk1cuZkyUUT",
        "zIuZEOv03wc-",
        "7BosWc0tyeyx",
        "I6tUPXzr5RPx",
        "A3gRj78vy4fw",
        "fLN4zvDTzX4t",
        "PIvj-CWpZtFp",
        "OhIb1DCUbJ60",
        "ls1aPj0YbQqq",
        "DJbjcVhnbuYR"
      ],
      "authorship_tag": "ABX9TyOWtolzNlvaIy9wUzPq8esz",
      "include_colab_link": true
    },
    "kernelspec": {
      "display_name": "Python 3",
      "name": "python3"
    },
    "language_info": {
      "name": "python"
    }
  },
  "nbformat": 4,
  "nbformat_minor": 0
}