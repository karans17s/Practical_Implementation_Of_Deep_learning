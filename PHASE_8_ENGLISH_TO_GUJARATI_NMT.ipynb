{
  "nbformat": 4,
  "nbformat_minor": 0,
  "metadata": {
    "colab": {
      "provenance": [],
      "authorship_tag": "ABX9TyNW7CO5gMRf8O1239WGpmBX",
      "include_colab_link": true
    },
    "kernelspec": {
      "name": "python3",
      "display_name": "Python 3"
    },
    "language_info": {
      "name": "python"
    }
  },
  "cells": [
    {
      "cell_type": "markdown",
      "metadata": {
        "id": "view-in-github",
        "colab_type": "text"
      },
      "source": [
        "<a href=\"https://colab.research.google.com/github/karans17s/Practical_Implementation_Of_Deep_learning/blob/main/PHASE_8_ENGLISH_TO_GUJARATI_NMT.ipynb\" target=\"_parent\"><img src=\"https://colab.research.google.com/assets/colab-badge.svg\" alt=\"Open In Colab\"/></a>"
      ]
    },
    {
      "cell_type": "markdown",
      "source": [
        "# **STEP:1 - IMPORT LIBS..**"
      ],
      "metadata": {
        "id": "KXB7VjTk47Xf"
      }
    },
    {
      "cell_type": "code",
      "source": [
        "import torch\n",
        "import numpy as np\n",
        "import torch.nn as nn\n",
        "import math"
      ],
      "metadata": {
        "id": "FA_PhIRQgi8G"
      },
      "execution_count": null,
      "outputs": []
    },
    {
      "cell_type": "markdown",
      "source": [
        "# **STEP:2 - DATASET**"
      ],
      "metadata": {
        "id": "HvwwM85Q5FSZ"
      }
    },
    {
      "cell_type": "code",
      "source": [
        "english = '/content/train.en'"
      ],
      "metadata": {
        "id": "Oaab5zyygjPX"
      },
      "execution_count": null,
      "outputs": []
    },
    {
      "cell_type": "code",
      "source": [
        "gujarati = '/content/train.gu'"
      ],
      "metadata": {
        "id": "5RW7DpX_hqdJ"
      },
      "execution_count": null,
      "outputs": []
    },
    {
      "cell_type": "markdown",
      "source": [
        "# **STEP:3 DEFINE THE VOCAB**"
      ],
      "metadata": {
        "id": "66BhOiTq5y_C"
      }
    },
    {
      "cell_type": "code",
      "source": [
        "START_TOKEN = '<s>'\n",
        "PADDING_TOKEN = '</s>'\n",
        "END_TOKEN = '<pad>'\n",
        "\n",
        "gujarati_vocabulary = [START_TOKEN, ' ', '!', '\"', '#', '$', '%', '&', \"'\", '(', ')', '*', '+', ',', '-', '.', '/',\n",
        "                       '૦', '૧', '૨', '૩', '૪', '૫', '૬', '૭', '૮', '૯', ':', '<', '=', '>', '?', '@',\n",
        "                       'અ', 'આ', 'ઇ', 'ઈ', 'ઉ', 'ઊ', 'ઋ', 'ૠ', 'ઌ', 'ૡ', 'ઍ', 'એ', 'ઐ', 'ઑ', 'ઓ', 'ઔ',\n",
        "                       'ક', 'ખ', 'ગ', 'ઘ', 'ઙ',\n",
        "                       'ચ', 'છ', 'જ', 'ઝ', 'ઞ',\n",
        "                       'ટ', 'ઠ', 'ડ', 'ઢ', 'ણ',\n",
        "                       'ત', 'થ', 'દ', 'ધ', 'ન',\n",
        "                       'પ', 'ફ', 'બ', 'ભ', 'મ',\n",
        "                       'ય', 'ર', 'લ', 'વ', 'શ', 'ષ', 'સ', 'હ', '઼', 'ા', 'િ', 'ી', 'ુ', 'ૂ', 'ૃ', 'ૄ', 'ૅ', 'ે', 'ૈ', 'ૉ', 'ો', 'ૌ', '્', 'ૐ', 'ૠ', 'ૡ', 'ં', 'ઃ',\n",
        "                       PADDING_TOKEN, END_TOKEN]\n",
        "\n",
        "\n",
        "english_vocabulary = [START_TOKEN, ' ', '!', '\"', '#', '$', '%', '&', \"'\", '(', ')', '*', '+', ',', '-', '.', '/',\n",
        "                        '0', '1', '2', '3', '4', '5', '6', '7', '8', '9',\n",
        "                        ':', '<', '=', '>', '?', '@',\n",
        "                        'A', 'B', 'C', 'D', 'E', 'F', 'G', 'H', 'I', 'J', 'K', 'L',\n",
        "                        'M', 'N', 'O', 'P', 'Q', 'R', 'S', 'T', 'U', 'V', 'W', 'X',\n",
        "                        'Y', 'Z',\n",
        "                        \"[\", \"/\", \"]\", \"^\", \"_\", \"`\",\n",
        "                        'a', 'b', 'c', 'd', 'e', 'f', 'g', 'h', 'i', 'j', 'k', 'l',\n",
        "                        'm', 'n', 'o', 'p', 'q', 'r', 's', 't', 'u', 'v', 'w', 'x',\n",
        "                        'y', 'z',\n",
        "                        '{', '|', '}', '~', PADDING_TOKEN, END_TOKEN]"
      ],
      "metadata": {
        "id": "Eo7r2smXhtld"
      },
      "execution_count": null,
      "outputs": []
    },
    {
      "cell_type": "code",
      "source": [
        "index_to_gujarati = {k:v for k,v in enumerate(gujarati_vocabulary)}\n",
        "gujarati_to_index = {v:k for k,v in enumerate(gujarati_vocabulary)}\n",
        "index_to_english = {k:v for k,v in enumerate(english_vocabulary)}\n",
        "english_to_index = {v:k for k,v in enumerate(english_vocabulary)}"
      ],
      "metadata": {
        "id": "RhsXEMFQhzlK"
      },
      "execution_count": null,
      "outputs": []
    },
    {
      "cell_type": "code",
      "source": [
        "gujarati_to_index"
      ],
      "metadata": {
        "colab": {
          "base_uri": "https://localhost:8080/"
        },
        "id": "X4tOwfIEiafk",
        "outputId": "2f799db1-f391-4e26-ea86-eb9c80dbcc1d"
      },
      "execution_count": null,
      "outputs": [
        {
          "output_type": "execute_result",
          "data": {
            "text/plain": [
              "{'<s>': 0,\n",
              " ' ': 1,\n",
              " '!': 2,\n",
              " '\"': 3,\n",
              " '#': 4,\n",
              " '$': 5,\n",
              " '%': 6,\n",
              " '&': 7,\n",
              " \"'\": 8,\n",
              " '(': 9,\n",
              " ')': 10,\n",
              " '*': 11,\n",
              " '+': 12,\n",
              " ',': 13,\n",
              " '-': 14,\n",
              " '.': 15,\n",
              " '/': 16,\n",
              " '૦': 17,\n",
              " '૧': 18,\n",
              " '૨': 19,\n",
              " '૩': 20,\n",
              " '૪': 21,\n",
              " '૫': 22,\n",
              " '૬': 23,\n",
              " '૭': 24,\n",
              " '૮': 25,\n",
              " '૯': 26,\n",
              " ':': 27,\n",
              " '<': 28,\n",
              " '=': 29,\n",
              " '>': 30,\n",
              " '?': 31,\n",
              " '@': 32,\n",
              " 'અ': 33,\n",
              " 'આ': 34,\n",
              " 'ઇ': 35,\n",
              " 'ઈ': 36,\n",
              " 'ઉ': 37,\n",
              " 'ઊ': 38,\n",
              " 'ઋ': 39,\n",
              " 'ૠ': 98,\n",
              " 'ઌ': 41,\n",
              " 'ૡ': 99,\n",
              " 'ઍ': 43,\n",
              " 'એ': 44,\n",
              " 'ઐ': 45,\n",
              " 'ઑ': 46,\n",
              " 'ઓ': 47,\n",
              " 'ઔ': 48,\n",
              " 'ક': 49,\n",
              " 'ખ': 50,\n",
              " 'ગ': 51,\n",
              " 'ઘ': 52,\n",
              " 'ઙ': 53,\n",
              " 'ચ': 54,\n",
              " 'છ': 55,\n",
              " 'જ': 56,\n",
              " 'ઝ': 57,\n",
              " 'ઞ': 58,\n",
              " 'ટ': 59,\n",
              " 'ઠ': 60,\n",
              " 'ડ': 61,\n",
              " 'ઢ': 62,\n",
              " 'ણ': 63,\n",
              " 'ત': 64,\n",
              " 'થ': 65,\n",
              " 'દ': 66,\n",
              " 'ધ': 67,\n",
              " 'ન': 68,\n",
              " 'પ': 69,\n",
              " 'ફ': 70,\n",
              " 'બ': 71,\n",
              " 'ભ': 72,\n",
              " 'મ': 73,\n",
              " 'ય': 74,\n",
              " 'ર': 75,\n",
              " 'લ': 76,\n",
              " 'વ': 77,\n",
              " 'શ': 78,\n",
              " 'ષ': 79,\n",
              " 'સ': 80,\n",
              " 'હ': 81,\n",
              " '઼': 82,\n",
              " 'ા': 83,\n",
              " 'િ': 84,\n",
              " 'ી': 85,\n",
              " 'ુ': 86,\n",
              " 'ૂ': 87,\n",
              " 'ૃ': 88,\n",
              " 'ૄ': 89,\n",
              " 'ૅ': 90,\n",
              " 'ે': 91,\n",
              " 'ૈ': 92,\n",
              " 'ૉ': 93,\n",
              " 'ો': 94,\n",
              " 'ૌ': 95,\n",
              " '્': 96,\n",
              " 'ૐ': 97,\n",
              " 'ં': 100,\n",
              " 'ઃ': 101,\n",
              " '</s>': 102,\n",
              " '<pad>': 103}"
            ]
          },
          "metadata": {},
          "execution_count": 7
        }
      ]
    },
    {
      "cell_type": "markdown",
      "source": [
        "# **STEP:4 LOAD AND CLEANING THE DATA**"
      ],
      "metadata": {
        "id": "qpq-K7di56rB"
      }
    },
    {
      "cell_type": "code",
      "source": [
        "with open(english, 'r') as file:\n",
        "    english_sentences = file.readlines()\n",
        "with open(gujarati, 'r') as file:\n",
        "    gujarati_sentences = file.readlines()"
      ],
      "metadata": {
        "id": "dp_bZFcMib6V"
      },
      "execution_count": null,
      "outputs": []
    },
    {
      "cell_type": "code",
      "source": [
        "TOTAL_SENTENCES = 200000\n",
        "english_sentences = english_sentences[:TOTAL_SENTENCES]\n",
        "gujarati_sentences = gujarati_sentences[:TOTAL_SENTENCES]\n",
        "english_sentences = [sentence.rstrip('\\n') for sentence in english_sentences]\n",
        "gujarati_sentences = [sentence.rstrip('\\n') for sentence in gujarati_sentences]"
      ],
      "metadata": {
        "id": "jkjNZqhTieOl"
      },
      "execution_count": null,
      "outputs": []
    },
    {
      "cell_type": "code",
      "source": [
        "english_sentences[:10]"
      ],
      "metadata": {
        "colab": {
          "base_uri": "https://localhost:8080/"
        },
        "id": "CEGlgFT8ij2j",
        "outputId": "1da12c26-e164-4b47-a414-5102d7a8b917"
      },
      "execution_count": null,
      "outputs": [
        {
          "output_type": "execute_result",
          "data": {
            "text/plain": [
              "['Are you doing online transactions?',\n",
              " 'Kunwar explains:',\n",
              " 'A passenger train is sitting at a station.',\n",
              " 'heavy snow shower',\n",
              " 'It was plain that their intensive study of the Scriptures over their five months of training had reached their heart and motivated them to share with others what they had learned.',\n",
              " 'Jesus Christ is overseeing the greatest preaching campaign in history',\n",
              " 'He had gained victory by a margin of 67,000 votes.',\n",
              " 'The Moskals immediately included the reading of the Harp book in their regular Bible - reading sessions.',\n",
              " 'Gas lasers.',\n",
              " 'Effective December 2 midnight, petrol, diesel and gas outlets will be removed from the exempt category for receipt of old Rs 500 notes']"
            ]
          },
          "metadata": {},
          "execution_count": 12
        }
      ]
    },
    {
      "cell_type": "code",
      "source": [
        "gujarati_sentences[:10]"
      ],
      "metadata": {
        "colab": {
          "base_uri": "https://localhost:8080/"
        },
        "id": "oabZ8i0SilZ_",
        "outputId": "dd51fbf4-e5a4-47ed-c726-fbc01a624887"
      },
      "execution_count": null,
      "outputs": [
        {
          "output_type": "execute_result",
          "data": {
            "text/plain": [
              "['ઓનલાઈન ટ્રાન્ઝેક્શન કરી શકાય?',\n",
              " 'કુરાન તે વર્ણવે છે:',\n",
              " 'એક પેસેન્જર ટ્રેન સ્ટેશન પર બેઠેલું છે.',\n",
              " 'ભારે બરફના ટૂકડાweather forecast',\n",
              " 'પાંચ મહિનાના કોર્સમાં પોતે જે કંઈ શીખ્યો, એ એક વિદ્યાર્થીએ પોતાના નાના ભાઈને જણાવ્યું.',\n",
              " 'આજે પૃથ્વી પર થઈ રહેલા મહાન પ્રચાર કાર્યની ઈસુ દેખરેખ રાખે છે',\n",
              " 'આમ, તેઓ 67,000થી વધુ મતથી જીતી ગયા છે.',\n",
              " 'મૉસ્કેલ કુટુંબે બાઇબલ સાથે સાથે એ પુસ્તક પણ વાંચવાનું શરૂ કરી દીધું.',\n",
              " 'ગેસ લેસર્સ.',\n",
              " '10 ડિસેમ્બરથી 500 રુપિયની જૂની નોટ રેલવે, મેટ્રો અને બસમાં ચાલવાનું બંધ થઇ જશે']"
            ]
          },
          "metadata": {},
          "execution_count": 13
        }
      ]
    },
    {
      "cell_type": "markdown",
      "source": [
        "# **STEP:5 SENTENCE LENGTH ANALYSIS**"
      ],
      "metadata": {
        "id": "Cbs5RmyQ6GN2"
      }
    },
    {
      "cell_type": "code",
      "source": [
        "max(len(x) for x in gujarati_sentences), max(len(x) for x in english_sentences),"
      ],
      "metadata": {
        "colab": {
          "base_uri": "https://localhost:8080/"
        },
        "id": "gkZJCVZ2in6A",
        "outputId": "8d58d1fc-6c13-4547-b2a1-6834e3503e7a"
      },
      "execution_count": null,
      "outputs": [
        {
          "output_type": "execute_result",
          "data": {
            "text/plain": [
              "(1182, 1004)"
            ]
          },
          "metadata": {},
          "execution_count": 14
        }
      ]
    },
    {
      "cell_type": "code",
      "source": [
        "PERCENTILE = 99\n",
        "print( f\"{np.percentile([len(x) for x in gujarati_sentences], PERCENTILE)}\" )\n",
        "print( f\"{np.percentile([len(x) for x in english_sentences], PERCENTILE)}\" )"
      ],
      "metadata": {
        "colab": {
          "base_uri": "https://localhost:8080/"
        },
        "id": "Lsd4TxrpiqSQ",
        "outputId": "49fd25f5-9345-4961-bc0f-43ab986634e5"
      },
      "execution_count": null,
      "outputs": [
        {
          "output_type": "stream",
          "name": "stdout",
          "text": [
            "99th percentile length Kannada: 227.0\n",
            "99th percentile length English: 245.0\n"
          ]
        }
      ]
    },
    {
      "cell_type": "markdown",
      "source": [
        "# **STEP:6 FILTERING VALID SENTENCES**"
      ],
      "metadata": {
        "id": "aN0OKLYW7JBe"
      }
    },
    {
      "cell_type": "markdown",
      "source": [
        "sets the maximum sequence length to 300."
      ],
      "metadata": {
        "id": "0B5TCS2R6eNw"
      }
    },
    {
      "cell_type": "code",
      "source": [
        "max_sequence_length = 300"
      ],
      "metadata": {
        "id": "OsjLqHaAisZJ"
      },
      "execution_count": null,
      "outputs": []
    },
    {
      "cell_type": "code",
      "source": [
        "def is_valid_tokens(sentence, vocab):\n",
        "    for token in list(set(sentence)):\n",
        "        if token not in vocab:\n",
        "            return False\n",
        "    return True\n",
        "\n",
        "def is_valid_length(sentence, max_sequence_length):\n",
        "    return len(list(sentence)) < (max_sequence_length - 1)\n",
        "\n",
        "valid_sentence_indicies = []\n",
        "for index in range(len(gujarati_sentences)):\n",
        "    gujarati_sentence, english_sentence = gujarati_sentences[index], english_sentences[index]\n",
        "    if is_valid_length(gujarati_sentence, max_sequence_length) \\\n",
        "      and is_valid_length(english_sentence, max_sequence_length) \\\n",
        "      and is_valid_tokens(gujarati_sentence, gujarati_vocabulary):\n",
        "        valid_sentence_indicies.append(index)\n",
        "\n",
        "print(f\"Number of sentences: {len(gujarati_sentences)}\")\n",
        "print(f\"Number of valid sentences: {len(valid_sentence_indicies)}\")"
      ],
      "metadata": {
        "colab": {
          "base_uri": "https://localhost:8080/"
        },
        "id": "13LJ6rgHit3q",
        "outputId": "bf423040-e82a-4fec-8145-f4ef61ce80f3"
      },
      "execution_count": null,
      "outputs": [
        {
          "output_type": "stream",
          "name": "stdout",
          "text": [
            "Number of sentences: 200000\n",
            "Number of valid sentences: 139624\n"
          ]
        }
      ]
    },
    {
      "cell_type": "code",
      "source": [
        "gujarati_sentences = [gujarati_sentences[i] for i in valid_sentence_indicies]\n",
        "english_sentences = [english_sentences[i] for i in valid_sentence_indicies]"
      ],
      "metadata": {
        "id": "uHpye30PiwKG"
      },
      "execution_count": null,
      "outputs": []
    },
    {
      "cell_type": "markdown",
      "source": [
        "# **STEP:7 DATASET CREATION**"
      ],
      "metadata": {
        "id": "LG9gyR8w6_qs"
      }
    },
    {
      "cell_type": "code",
      "source": [
        "from torch.utils.data import Dataset, DataLoader\n",
        "\n",
        "class TextDataset(Dataset):\n",
        "\n",
        "    def __init__(self, english_sentences, gujarati_sentences):\n",
        "        self.english_sentences = english_sentences\n",
        "        self.gujarati_sentences = gujarati_sentences\n",
        "\n",
        "    def __len__(self):\n",
        "        return len(self.english_sentences)\n",
        "\n",
        "    def __getitem__(self, idx):\n",
        "        return self.english_sentences[idx], self.gujarati_sentences[idx]"
      ],
      "metadata": {
        "id": "PFmBKS0qix-s"
      },
      "execution_count": null,
      "outputs": []
    },
    {
      "cell_type": "code",
      "source": [
        "dataset = TextDataset(english_sentences, gujarati_sentences)"
      ],
      "metadata": {
        "id": "o7gQXejai0Og"
      },
      "execution_count": null,
      "outputs": []
    },
    {
      "cell_type": "code",
      "source": [
        "dataset[3]"
      ],
      "metadata": {
        "colab": {
          "base_uri": "https://localhost:8080/"
        },
        "id": "BX8_-uBgi1tC",
        "outputId": "b93e6d9d-a445-405c-f3ab-39aeba394606"
      },
      "execution_count": null,
      "outputs": [
        {
          "output_type": "execute_result",
          "data": {
            "text/plain": [
              "('It was plain that their intensive study of the Scriptures over their five months of training had reached their heart and motivated them to share with others what they had learned.',\n",
              " 'પાંચ મહિનાના કોર્સમાં પોતે જે કંઈ શીખ્યો, એ એક વિદ્યાર્થીએ પોતાના નાના ભાઈને જણાવ્યું.')"
            ]
          },
          "metadata": {},
          "execution_count": 21
        }
      ]
    },
    {
      "cell_type": "markdown",
      "source": [
        "# **STEP:8 DATALOADER AND BATCH PROCESSING**"
      ],
      "metadata": {
        "id": "qKAr20ZL7XV3"
      }
    },
    {
      "cell_type": "code",
      "source": [
        "batch_size = 10\n",
        "train_loader = DataLoader(dataset, batch_size)\n",
        "iterator = iter(train_loader)\n",
        "\n",
        "for batch_num, batch in enumerate(iterator):\n",
        "    print(batch)\n",
        "    if batch_num > 3:\n",
        "        break"
      ],
      "metadata": {
        "colab": {
          "base_uri": "https://localhost:8080/"
        },
        "id": "UZaDZlWSi209",
        "outputId": "f6b0ccae-395c-4edc-e971-85b9af5ed9ca"
      },
      "execution_count": null,
      "outputs": [
        {
          "output_type": "stream",
          "name": "stdout",
          "text": [
            "[('Are you doing online transactions?', 'Kunwar explains:', 'A passenger train is sitting at a station.', 'It was plain that their intensive study of the Scriptures over their five months of training had reached their heart and motivated them to share with others what they had learned.', 'Jesus Christ is overseeing the greatest preaching campaign in history', 'The Moskals immediately included the reading of the Harp book in their regular Bible - reading sessions.', 'Gas lasers.', 'Then the job.', 'Australia announce ODI squad for India series', 'This was another topping.'), ('ઓનલાઈન ટ્રાન્ઝેક્શન કરી શકાય?', 'કુરાન તે વર્ણવે છે:', 'એક પેસેન્જર ટ્રેન સ્ટેશન પર બેઠેલું છે.', 'પાંચ મહિનાના કોર્સમાં પોતે જે કંઈ શીખ્યો, એ એક વિદ્યાર્થીએ પોતાના નાના ભાઈને જણાવ્યું.', 'આજે પૃથ્વી પર થઈ રહેલા મહાન પ્રચાર કાર્યની ઈસુ દેખરેખ રાખે છે', 'મૉસ્કેલ કુટુંબે બાઇબલ સાથે સાથે એ પુસ્તક પણ વાંચવાનું શરૂ કરી દીધું.', 'ગેસ લેસર્સ.', 'પછી તો કામ જ કામ છે.', 'ઓસ્ટ્રેલિયા સામેની વનડે શ્રેણી માટે ટીમ ઈન્ડિયાની જાહેરાત', 'આ બીજો મોટો ધડાકો હતો.')]\n",
            "[('Rehab and relapse', 'There are various options available:', 'On the lines of last years Howdy-Modi event in Houston, US President Donald Trump will address a similar event in PM Modis home state of Gujarat when he visits India in the last week of February.', 'The results are as follow:', 'His father was a lecturer in physics and mathematics.', 'This is the safest and efficient way.', 'Why change?', \"St. Andrew's Church\", 'Lord Ganesha is worshiped on this day.', 'He expected that.'), ('પુનઃગઠન અને ફડચો', 'વિવિધ વૈકલ્પિક રસ્તાઓ છે:', 'આગામી ફેબ્રુઆરીમાં ડોનાલ્ડ ટ્રમ્પની સંભવિત ભારત યાત્રા વખતે વડાપ્રધાન મોદીનાં હોમ સ્ટેટ ગુજરાતનાં સૌથી મોટા શહેર અમદાવાદ ખાતે હાઉડી મોદી જેવો કાર્યક્રમ યોજાય અને તેમાં વડાપ્રધાન મોદી પોતે હાજર રહે તેવી શક્યતા છે.', 'પરિણામ નીચે પ્રમાણે છે.', 'તેમના પિતા ગણિત અને ભૌતિકશાસ્ત્રના પ્રોફેસર હતાં.', 'તે આ પદ્ધતિ સૌથી વિશ્વસનીય અને અસરકારક છે.', 'શા માટે બદલાતી રહે છે?', 'લક્ઝરી સેન્ટ એન્ડ્રુ માતાનો ચર્ચ', 'આ દિવસે ભગવાન ગણેશની પૂજાનું વધારે મહત્ત્વ છે.', 'તેણે જે ધાર્યું હતું.')]\n",
            "[('Would Jesus use folklore to warn us about the coming end of this system of things?', 'A man walks out of a colorful train onto a platform.', 'at least at the initial stages.', 'Jesus did not let matters go at that.', 'Every life is special.', 'Add the capsicum, tomatoes and salt.', 'And surprise!', 'will it happen?', 'htc mobile phones', 'They are accused of committing violence in Delhi, damaging public property and injuring policemen.'), ('આ દુષ્ટ જગતના અંતની ચેતવણી આપવા, શું ઈસુ એક બનાવટી વાર્તાનો ઉપયોગ કરે?', 'એક માણસ પ્લેટફોર્મ પર એક રંગીન ટ્રેન બહાર લઈ જશે.', 'ઓછામાં ઓછા પ્રથમ તબક્કે', 'આમ કહ્યા પછી ઈસુ બેસી રહ્યા નહિ.', 'દરેક જીવની પોતાની એક અલગ ખાસિયત છે.', 'કેચઅપ ભરો, મીઠું અને મરી ઉમેરો.', 'અને આશ્ચર્ય!', 'તે થાય છે?', 'એચટીસી ફોન્સ', 'જેમના પર દિલ્હીમાં હિંસા કરવા, જાહેર સંપત્તિને નુકસાન પહોંચાડવા અને પોલીસકર્મીઓને ઈજા પહોંચાડવાના આરોપ છે.')]\n",
            "[('Its not always possible, but we try.', 'Orange Rose', 'He also lost his memory for some time.', 'Wearing comfortable shoes that fit well can prevent many foot ailments.', 'Then grind them.', 'She then worked as a translator at a Bangalore recording company.', 'But everyone starting out on a new course in life has a limited amount of knowledge.', 'Names are named.', 'Congress lawmakers protested in the Parliament premises, raising slogans and waving placards, against the Modi government.', 'They were just not present.'), ('તે હંમેશા કામ કરતું નથી, પરંતુ અમે સખત પ્રયત્નો કરીએ છીએ.', 'ઓરેન્જ ઓરા', 'થોડા સમય માટે તેની યાદશક્તિ પણ જતી રહી હતી.', 'આરામદાયક પગરખાં પહેરવા જે યોગ્ય છે તે ઘણા પગની બિમારીઓને અટકાવી શકે છે.', 'પછી તેમને ચડાવવું.', 'આ પહેલાં તેઓ બેંગલુરુ રેકોર્ડિંગ કંપનીમાં ટ્રાન્સલેટર તરીકે કાર્ય કરતી હતી.', 'પણ ચિંતા ન કરો, કેમ કે મોટા ભાગે પરમેશ્વર વિષે શીખવાની શરૂઆત કરનારને પહેલ - વહેલા તો થોડું જ જ્ઞાન હોય છે.', 'નામે ય એવાં પાડ્યાં છે.', 'સંસદ પરિસરમાં વિપક્ષોએ સંગઠિત બનીને મોદી અને સરકાર વિરૂદ્ધ સૂત્રો પોકાર્યા હતા.', 'તેઓ ફક્ત અસ્તિત્વ ન હતું.')]\n",
            "[('Right timing', 'Limits of superstition', 'So, two categories will be part of day group, two categories will be part of night group and we will like to see how it is performing in the model.', 'He was given man of the match award.', 'I was awestruck.', 'But one thing is important when you move towards big changes, you will face hurdles.', 'Thats what triggered the fire.', 'Prime Minister Narendra Modi thanked the people of Uttarakhand for BJPs victory.', 'Why do you go on living?', 'How today almost all the families are connected to the banking facility'), ('યોગ્ય ટાઈમિંગ', 'આસ્તિકવાદની મર્યાદાઓ', 'તેથી, બે કેટેગરીઝ દિવસ જૂથનો ભાગ બનશે, બે કેટેગરીઝ રાત્રી જૂથનો ભાગ હશે અને આપણે તે જોવા માંગીએ છીએ કે તે મોડેલમાં કેવી રીતે પ્રદર્શન કરે છે.', 'તેને મેન ઓફ ધ મેચનો એવોર્ડ આપવામાં આવ્યો હતો.', 'હું અચંબીત હતી.', 'પણ એક વાત મહત્વની છે, કે જયારે તમે આટલું મોટું પરિવર્તન લાવો છો, તો અડચણો આવે છે, ગતિ અટકી જાય છે, પરંતુ આ સરકારની કાર્યશૈલી જૂઓ.', 'જેના કારણે આ આગ લાગી હતી.', 'પ્રચંડ વિજયથી ભાજપને જિતાડવા માટે વડા પ્રધાન નરેન્દ્ર મોદીએ દિલ્હીનાં લોકોનો આભાર માન્યો હતો.', 'કેમ જીવશે ?', 'એવું શા માટે થયું કે આજે દેશનો લગભગ દરેક પરિવાર બેન્કિંગ સેવા સાથે જોડાઈ ગયો છે.')]\n"
          ]
        }
      ]
    },
    {
      "cell_type": "markdown",
      "source": [
        "# **STEP:9 TOKENIZATION**"
      ],
      "metadata": {
        "id": "Y6ApejgR7e8h"
      }
    },
    {
      "cell_type": "code",
      "source": [
        "def tokenize(sentence, language_to_index, start_token=True, end_token=True):\n",
        "    sentence_word_indicies = [language_to_index[token] for token in list(sentence)]\n",
        "    if start_token:\n",
        "        sentence_word_indicies.insert(0, language_to_index[START_TOKEN])\n",
        "    if end_token:\n",
        "        sentence_word_indicies.append(language_to_index[END_TOKEN])\n",
        "    for _ in range(len(sentence_word_indicies), max_sequence_length):\n",
        "        sentence_word_indicies.append(language_to_index[PADDING_TOKEN])\n",
        "    return torch.tensor(sentence_word_indicies)"
      ],
      "metadata": {
        "id": "KM5VmLqqi47r"
      },
      "execution_count": null,
      "outputs": []
    },
    {
      "cell_type": "code",
      "source": [
        "eng_tokenized, gu_tokenized = [], []\n",
        "for sentence_num in range(batch_size):\n",
        "    eng_sentence, gu_sentence = batch[0][sentence_num], batch[1][sentence_num]\n",
        "    eng_tokenized.append( tokenize(eng_sentence, english_to_index, start_token=False, end_token=False) )\n",
        "    gu_tokenized.append( tokenize(gu_sentence, gujarati_to_index, start_token=True, end_token=True) )\n",
        "eng_tokenized = torch.stack(eng_tokenized)\n",
        "gu_tokenized = torch.stack(gu_tokenized)"
      ],
      "metadata": {
        "id": "DHxEmuY3i8NV"
      },
      "execution_count": null,
      "outputs": []
    },
    {
      "cell_type": "code",
      "source": [
        "gu_tokenized"
      ],
      "metadata": {
        "id": "hyJQNQT3i95y",
        "outputId": "27c70925-640d-4b3a-bc53-52af7210b7f1",
        "colab": {
          "base_uri": "https://localhost:8080/"
        }
      },
      "execution_count": null,
      "outputs": [
        {
          "output_type": "execute_result",
          "data": {
            "text/plain": [
              "tensor([[  0,  74,  94,  ..., 102, 102, 102],\n",
              "        [  0,  34,  80,  ..., 102, 102, 102],\n",
              "        [  0,  64,  91,  ..., 102, 102, 102],\n",
              "        ...,\n",
              "        [  0,  69,  96,  ..., 102, 102, 102],\n",
              "        [  0,  49,  91,  ..., 102, 102, 102],\n",
              "        [  0,  44,  77,  ..., 102, 102, 102]])"
            ]
          },
          "metadata": {},
          "execution_count": 25
        }
      ]
    }
  ]
}